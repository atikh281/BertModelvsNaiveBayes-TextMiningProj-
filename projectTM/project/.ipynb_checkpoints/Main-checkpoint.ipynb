{
 "cells": [
  {
   "cell_type": "markdown",
   "metadata": {
    "id": "uH7p6feiJtNj"
   },
   "source": [
    "# **Install** **required** **libraries**"
   ]
  },
  {
   "cell_type": "code",
   "execution_count": null,
   "metadata": {
    "colab": {
     "base_uri": "https://localhost:8080/"
    },
    "id": "QglLXMUxqCNq",
    "outputId": "da56b001-0fc0-4ec5-da6b-becbf8a4f3b3"
   },
   "outputs": [],
   "source": [
    "!pip install tensorflow-text\n",
    "!pip install tf-models-official\n",
    "!pip install nltk"
   ]
  },
  {
   "cell_type": "markdown",
   "metadata": {
    "id": "quRPuIxTJzCJ"
   },
   "source": [
    "# **Text** **cleaner** **definition**"
   ]
  },
  {
   "cell_type": "code",
   "execution_count": 20,
   "metadata": {
    "colab": {
     "base_uri": "https://localhost:8080/"
    },
    "id": "QYyMxRE5vFLn",
    "outputId": "b1b9f8b7-d9f9-414f-c211-ebe3cca6d87a"
   },
   "outputs": [
    {
     "name": "stdout",
     "output_type": "stream",
     "text": [
      "[nltk_data] Downloading package stopwords to /root/nltk_data...\n",
      "[nltk_data]   Package stopwords is already up-to-date!\n"
     ]
    }
   ],
   "source": [
    "import string\n",
    "import nltk\n",
    "nltk.download(\"stopwords\")\n",
    "stopwords = nltk.corpus.stopwords.words('english')\n",
    "\n",
    "class text_cleaner:\n",
    "    def remove_punctuation(self, text):\n",
    "        new_text = ''\n",
    "        for char in text:\n",
    "            if char in string.punctuation:\n",
    "        new_text += ' '\n",
    "        else:\n",
    "        new_text += char\n",
    "\n",
    "    return new_text\n",
    "\n",
    "  def lowering(self, text):\n",
    "    return text.lower()\n",
    "\n",
    "  def clean(self, text):\n",
    "    text = self.remove_punctuation(text)\n",
    "    text = self.lowering(text)\n",
    "    return text"
   ]
  },
  {
   "cell_type": "markdown",
   "metadata": {
    "id": "SV-pwpNYJ8JH"
   },
   "source": [
    "# **Data** **loading**"
   ]
  },
  {
   "cell_type": "code",
   "execution_count": 21,
   "metadata": {
    "id": "-CMFxlr-lIhr"
   },
   "outputs": [],
   "source": [
    "import pandas as pd\n",
    "\n",
    "data = pd.read_csv('apple-twitter-sentiment-texts.csv', encoding='latin1')\n",
    "data.columns = ['text','sentiment']\n",
    "data = data.drop_duplicates().reset_index(drop=True)"
   ]
  },
  {
   "cell_type": "code",
   "execution_count": 22,
   "metadata": {
    "colab": {
     "base_uri": "https://localhost:8080/"
    },
    "id": "UsZJmTDzZN3U",
    "outputId": "56da641c-c34d-4405-fe0f-7fcad36e9ebe"
   },
   "outputs": [
    {
     "data": {
      "text/plain": [
       "(1624, 2)"
      ]
     },
     "execution_count": 22,
     "metadata": {},
     "output_type": "execute_result"
    }
   ],
   "source": [
    "data.shape"
   ]
  },
  {
   "cell_type": "code",
   "execution_count": 23,
   "metadata": {
    "colab": {
     "base_uri": "https://localhost:8080/",
     "height": 648
    },
    "id": "3H3IY8ZkZkS7",
    "outputId": "70bd983c-4813-4d3d-db28-93d397ab0f4b"
   },
   "outputs": [
    {
     "data": {
      "text/html": [
       "<div>\n",
       "<style scoped>\n",
       "    .dataframe tbody tr th:only-of-type {\n",
       "        vertical-align: middle;\n",
       "    }\n",
       "\n",
       "    .dataframe tbody tr th {\n",
       "        vertical-align: top;\n",
       "    }\n",
       "\n",
       "    .dataframe thead th {\n",
       "        text-align: right;\n",
       "    }\n",
       "</style>\n",
       "<table border=\"1\" class=\"dataframe\">\n",
       "  <thead>\n",
       "    <tr style=\"text-align: right;\">\n",
       "      <th></th>\n",
       "      <th>text</th>\n",
       "      <th>sentiment</th>\n",
       "    </tr>\n",
       "  </thead>\n",
       "  <tbody>\n",
       "    <tr>\n",
       "      <th>0</th>\n",
       "      <td>Wow. Yall needa step it up @Apple RT @heynyla:...</td>\n",
       "      <td>-1</td>\n",
       "    </tr>\n",
       "    <tr>\n",
       "      <th>1</th>\n",
       "      <td>What Happened To Apple Inc?   http://t.co/FJEX...</td>\n",
       "      <td>0</td>\n",
       "    </tr>\n",
       "    <tr>\n",
       "      <th>2</th>\n",
       "      <td>Thank u @apple I can now compile all of the pi...</td>\n",
       "      <td>1</td>\n",
       "    </tr>\n",
       "    <tr>\n",
       "      <th>3</th>\n",
       "      <td>The oddly uplifting story of the Apple co-foun...</td>\n",
       "      <td>0</td>\n",
       "    </tr>\n",
       "    <tr>\n",
       "      <th>4</th>\n",
       "      <td>@apple can i exchange my iphone for a differen...</td>\n",
       "      <td>0</td>\n",
       "    </tr>\n",
       "    <tr>\n",
       "      <th>5</th>\n",
       "      <td>RT @JPDesloges: Apple Acted Unfairly In Suppre...</td>\n",
       "      <td>-1</td>\n",
       "    </tr>\n",
       "    <tr>\n",
       "      <th>6</th>\n",
       "      <td>Let's not forget that press effects stock @App...</td>\n",
       "      <td>0</td>\n",
       "    </tr>\n",
       "    <tr>\n",
       "      <th>7</th>\n",
       "      <td>Apple Inc. Deleted Songs From Rival Services F...</td>\n",
       "      <td>-1</td>\n",
       "    </tr>\n",
       "    <tr>\n",
       "      <th>8</th>\n",
       "      <td>@TeamCavuto @Apple They're staging a die in ar...</td>\n",
       "      <td>0</td>\n",
       "    </tr>\n",
       "    <tr>\n",
       "      <th>9</th>\n",
       "      <td>Happy Monday! My camera on my fancy @Apple #iP...</td>\n",
       "      <td>-1</td>\n",
       "    </tr>\n",
       "    <tr>\n",
       "      <th>10</th>\n",
       "      <td>Facebook CEO Mark Zuckerberg criticizes Apple ...</td>\n",
       "      <td>-1</td>\n",
       "    </tr>\n",
       "    <tr>\n",
       "      <th>11</th>\n",
       "      <td>fuck you too @apple</td>\n",
       "      <td>-1</td>\n",
       "    </tr>\n",
       "    <tr>\n",
       "      <th>12</th>\n",
       "      <td>@Apple  you need to sort your phones out.</td>\n",
       "      <td>-1</td>\n",
       "    </tr>\n",
       "    <tr>\n",
       "      <th>13</th>\n",
       "      <td>@OneRepublic @Apple 45000 feet keep flying</td>\n",
       "      <td>0</td>\n",
       "    </tr>\n",
       "    <tr>\n",
       "      <th>14</th>\n",
       "      <td>@MarkZuckerbergF of @facebook and tim cook of ...</td>\n",
       "      <td>0</td>\n",
       "    </tr>\n",
       "    <tr>\n",
       "      <th>15</th>\n",
       "      <td>@APPLE YOURE SHIT FIX MY PROBLEM</td>\n",
       "      <td>-1</td>\n",
       "    </tr>\n",
       "    <tr>\n",
       "      <th>16</th>\n",
       "      <td>Up 169%, Is #Apple Supplier #Skyworks Still A ...</td>\n",
       "      <td>0</td>\n",
       "    </tr>\n",
       "    <tr>\n",
       "      <th>17</th>\n",
       "      <td>Theyre not RT @Naivana_: You gotta be kidding ...</td>\n",
       "      <td>-1</td>\n",
       "    </tr>\n",
       "    <tr>\n",
       "      <th>18</th>\n",
       "      <td>What to expect from Apple in 2015 $AAPL #aapl\\...</td>\n",
       "      <td>0</td>\n",
       "    </tr>\n",
       "    <tr>\n",
       "      <th>19</th>\n",
       "      <td>Confirmed: Bose speakers returning to #Apple S...</td>\n",
       "      <td>0</td>\n",
       "    </tr>\n",
       "  </tbody>\n",
       "</table>\n",
       "</div>"
      ],
      "text/plain": [
       "                                                 text  sentiment\n",
       "0   Wow. Yall needa step it up @Apple RT @heynyla:...         -1\n",
       "1   What Happened To Apple Inc?   http://t.co/FJEX...          0\n",
       "2   Thank u @apple I can now compile all of the pi...          1\n",
       "3   The oddly uplifting story of the Apple co-foun...          0\n",
       "4   @apple can i exchange my iphone for a differen...          0\n",
       "5   RT @JPDesloges: Apple Acted Unfairly In Suppre...         -1\n",
       "6   Let's not forget that press effects stock @App...          0\n",
       "7   Apple Inc. Deleted Songs From Rival Services F...         -1\n",
       "8   @TeamCavuto @Apple They're staging a die in ar...          0\n",
       "9   Happy Monday! My camera on my fancy @Apple #iP...         -1\n",
       "10  Facebook CEO Mark Zuckerberg criticizes Apple ...         -1\n",
       "11                                fuck you too @apple         -1\n",
       "12          @Apple  you need to sort your phones out.         -1\n",
       "13         @OneRepublic @Apple 45000 feet keep flying          0\n",
       "14  @MarkZuckerbergF of @facebook and tim cook of ...          0\n",
       "15                   @APPLE YOURE SHIT FIX MY PROBLEM         -1\n",
       "16  Up 169%, Is #Apple Supplier #Skyworks Still A ...          0\n",
       "17  Theyre not RT @Naivana_: You gotta be kidding ...         -1\n",
       "18  What to expect from Apple in 2015 $AAPL #aapl\\...          0\n",
       "19  Confirmed: Bose speakers returning to #Apple S...          0"
      ]
     },
     "execution_count": 23,
     "metadata": {},
     "output_type": "execute_result"
    }
   ],
   "source": [
    "data.head(20)"
   ]
  },
  {
   "cell_type": "markdown",
   "metadata": {
    "id": "FEUibHLQKOws"
   },
   "source": [
    "# **Data** **cleaning**"
   ]
  },
  {
   "cell_type": "code",
   "execution_count": 24,
   "metadata": {
    "id": "3h-tFV47qCsE"
   },
   "outputs": [],
   "source": [
    "cleaner = text_cleaner()\n",
    "data['text'] = data['text'].apply(lambda a:cleaner.clean(a))"
   ]
  },
  {
   "cell_type": "code",
   "execution_count": 7,
   "metadata": {
    "colab": {
     "base_uri": "https://localhost:8080/",
     "height": 648
    },
    "id": "MkPaIXZwc1uq",
    "outputId": "aabd8f99-6e0f-4406-c886-cd3ecbe951c5"
   },
   "outputs": [
    {
     "data": {
      "text/html": [
       "<div>\n",
       "<style scoped>\n",
       "    .dataframe tbody tr th:only-of-type {\n",
       "        vertical-align: middle;\n",
       "    }\n",
       "\n",
       "    .dataframe tbody tr th {\n",
       "        vertical-align: top;\n",
       "    }\n",
       "\n",
       "    .dataframe thead th {\n",
       "        text-align: right;\n",
       "    }\n",
       "</style>\n",
       "<table border=\"1\" class=\"dataframe\">\n",
       "  <thead>\n",
       "    <tr style=\"text-align: right;\">\n",
       "      <th></th>\n",
       "      <th>text</th>\n",
       "      <th>sentiment</th>\n",
       "    </tr>\n",
       "  </thead>\n",
       "  <tbody>\n",
       "    <tr>\n",
       "      <th>0</th>\n",
       "      <td>wow  yall needa step it up  apple rt  heynyla ...</td>\n",
       "      <td>-1</td>\n",
       "    </tr>\n",
       "    <tr>\n",
       "      <th>1</th>\n",
       "      <td>what happened to apple inc    http   t co fjex...</td>\n",
       "      <td>0</td>\n",
       "    </tr>\n",
       "    <tr>\n",
       "      <th>2</th>\n",
       "      <td>thank u  apple i can now compile all of the pi...</td>\n",
       "      <td>1</td>\n",
       "    </tr>\n",
       "    <tr>\n",
       "      <th>3</th>\n",
       "      <td>the oddly uplifting story of the apple co foun...</td>\n",
       "      <td>0</td>\n",
       "    </tr>\n",
       "    <tr>\n",
       "      <th>4</th>\n",
       "      <td>apple can i exchange my iphone for a differen...</td>\n",
       "      <td>0</td>\n",
       "    </tr>\n",
       "    <tr>\n",
       "      <th>5</th>\n",
       "      <td>rt  jpdesloges  apple acted unfairly in suppre...</td>\n",
       "      <td>-1</td>\n",
       "    </tr>\n",
       "    <tr>\n",
       "      <th>6</th>\n",
       "      <td>let s not forget that press effects stock  app...</td>\n",
       "      <td>0</td>\n",
       "    </tr>\n",
       "    <tr>\n",
       "      <th>7</th>\n",
       "      <td>apple inc  deleted songs from rival services f...</td>\n",
       "      <td>-1</td>\n",
       "    </tr>\n",
       "    <tr>\n",
       "      <th>8</th>\n",
       "      <td>teamcavuto  apple they re staging a die in ar...</td>\n",
       "      <td>0</td>\n",
       "    </tr>\n",
       "    <tr>\n",
       "      <th>9</th>\n",
       "      <td>happy monday  my camera on my fancy  apple  ip...</td>\n",
       "      <td>-1</td>\n",
       "    </tr>\n",
       "    <tr>\n",
       "      <th>10</th>\n",
       "      <td>facebook ceo mark zuckerberg criticizes apple ...</td>\n",
       "      <td>-1</td>\n",
       "    </tr>\n",
       "    <tr>\n",
       "      <th>11</th>\n",
       "      <td>fuck you too  apple</td>\n",
       "      <td>-1</td>\n",
       "    </tr>\n",
       "    <tr>\n",
       "      <th>12</th>\n",
       "      <td>apple  you need to sort your phones out</td>\n",
       "      <td>-1</td>\n",
       "    </tr>\n",
       "    <tr>\n",
       "      <th>13</th>\n",
       "      <td>onerepublic  apple 45000 feet keep flying</td>\n",
       "      <td>0</td>\n",
       "    </tr>\n",
       "    <tr>\n",
       "      <th>14</th>\n",
       "      <td>markzuckerbergf of  facebook and tim cook of ...</td>\n",
       "      <td>0</td>\n",
       "    </tr>\n",
       "    <tr>\n",
       "      <th>15</th>\n",
       "      <td>apple youre shit fix my problem</td>\n",
       "      <td>-1</td>\n",
       "    </tr>\n",
       "    <tr>\n",
       "      <th>16</th>\n",
       "      <td>up 169   is  apple supplier  skyworks still a ...</td>\n",
       "      <td>0</td>\n",
       "    </tr>\n",
       "    <tr>\n",
       "      <th>17</th>\n",
       "      <td>theyre not rt  naivana   you gotta be kidding ...</td>\n",
       "      <td>-1</td>\n",
       "    </tr>\n",
       "    <tr>\n",
       "      <th>18</th>\n",
       "      <td>what to expect from apple in 2015  aapl  aapl\\...</td>\n",
       "      <td>0</td>\n",
       "    </tr>\n",
       "    <tr>\n",
       "      <th>19</th>\n",
       "      <td>confirmed  bose speakers returning to  apple s...</td>\n",
       "      <td>0</td>\n",
       "    </tr>\n",
       "  </tbody>\n",
       "</table>\n",
       "</div>"
      ],
      "text/plain": [
       "                                                 text  sentiment\n",
       "0   wow  yall needa step it up  apple rt  heynyla ...         -1\n",
       "1   what happened to apple inc    http   t co fjex...          0\n",
       "2   thank u  apple i can now compile all of the pi...          1\n",
       "3   the oddly uplifting story of the apple co foun...          0\n",
       "4    apple can i exchange my iphone for a differen...          0\n",
       "5   rt  jpdesloges  apple acted unfairly in suppre...         -1\n",
       "6   let s not forget that press effects stock  app...          0\n",
       "7   apple inc  deleted songs from rival services f...         -1\n",
       "8    teamcavuto  apple they re staging a die in ar...          0\n",
       "9   happy monday  my camera on my fancy  apple  ip...         -1\n",
       "10  facebook ceo mark zuckerberg criticizes apple ...         -1\n",
       "11                                fuck you too  apple         -1\n",
       "12           apple  you need to sort your phones out          -1\n",
       "13          onerepublic  apple 45000 feet keep flying          0\n",
       "14   markzuckerbergf of  facebook and tim cook of ...          0\n",
       "15                    apple youre shit fix my problem         -1\n",
       "16  up 169   is  apple supplier  skyworks still a ...          0\n",
       "17  theyre not rt  naivana   you gotta be kidding ...         -1\n",
       "18  what to expect from apple in 2015  aapl  aapl\\...          0\n",
       "19  confirmed  bose speakers returning to  apple s...          0"
      ]
     },
     "execution_count": 7,
     "metadata": {},
     "output_type": "execute_result"
    }
   ],
   "source": [
    "data.head(20)"
   ]
  },
  {
   "cell_type": "markdown",
   "metadata": {
    "id": "puuERX41KTCn"
   },
   "source": [
    "# **Data** **shuffling**"
   ]
  },
  {
   "cell_type": "code",
   "execution_count": 25,
   "metadata": {
    "id": "Q-Hn593soFcz"
   },
   "outputs": [],
   "source": [
    "data = data.sample(frac=1).reset_index(drop = True)"
   ]
  },
  {
   "cell_type": "markdown",
   "metadata": {
    "id": "jYMB55m2Khfm"
   },
   "source": [
    "# **Data** **splitting**"
   ]
  },
  {
   "cell_type": "code",
   "execution_count": 26,
   "metadata": {
    "id": "NvAanW0TeapD"
   },
   "outputs": [],
   "source": [
    "import numpy as np\n",
    "from sklearn.model_selection import train_test_split\n",
    "\n",
    "X = data['text'].values\n",
    "y = data['sentiment'].values\n",
    "\n",
    "new_y = []\n",
    "for value in y:\n",
    "  if value == -1:\n",
    "    new_y.append([1,0,0])\n",
    "  elif value== 0:\n",
    "    new_y.append([0,1,0])\n",
    "  else:\n",
    "    new_y.append([0,0,1])\n",
    "\n",
    "y = np.array(new_y)\n",
    "\n",
    "\n",
    "X_train, X_val, y_train, y_val = train_test_split(X, y, test_size=0.3, random_state=42)\n",
    "X_val, X_test, y_val, y_test = train_test_split(X_val, y_val, test_size=0.5, random_state=42)"
   ]
  },
  {
   "cell_type": "code",
   "execution_count": 11,
   "metadata": {
    "id": "l5WXbEaIqTqF"
   },
   "outputs": [],
   "source": [
    "import os\n",
    "\n",
    "import tensorflow as tf\n",
    "import tensorflow_hub as hub\n",
    "import tensorflow_text as text\n",
    "\n",
    "tf.get_logger().setLevel('ERROR')"
   ]
  },
  {
   "cell_type": "markdown",
   "metadata": {
    "id": "cW4bXov5KmVt"
   },
   "source": [
    "# **Downloading** **layers**"
   ]
  },
  {
   "cell_type": "code",
   "execution_count": 29,
   "metadata": {
    "id": "2W7PUiR5luFp"
   },
   "outputs": [],
   "source": [
    "bert_preprocess_model = hub.KerasLayer('https://tfhub.dev/tensorflow/bert_en_uncased_preprocess/3')\n",
    "bert_model = hub.KerasLayer(\"https://tfhub.dev/tensorflow/small_bert/bert_en_uncased_L-4_H-512_A-8/1\", trainable=True)"
   ]
  },
  {
   "cell_type": "markdown",
   "metadata": {
    "id": "WfjhjMhIKsnw"
   },
   "source": [
    "# **Model** **definition**"
   ]
  },
  {
   "cell_type": "code",
   "execution_count": 50,
   "metadata": {
    "colab": {
     "base_uri": "https://localhost:8080/"
    },
    "id": "0plID91oqtja",
    "outputId": "1b9a5cc0-f679-4412-c501-7c9aa40ac754"
   },
   "outputs": [
    {
     "name": "stdout",
     "output_type": "stream",
     "text": [
      "(None, 512)\n"
     ]
    },
    {
     "data": {
      "text/plain": [
       "<keras.engine.functional.Functional at 0x7f9e8fcefdd0>"
      ]
     },
     "execution_count": 50,
     "metadata": {},
     "output_type": "execute_result"
    }
   ],
   "source": [
    "# Model definition\n",
    "\n",
    "def build_classifier_model():\n",
    "  # Input layer \n",
    "  text_input = tf.keras.layers.Input(shape=(), dtype=tf.string, name='text')\n",
    "\n",
    "  # Tokenizer layer \n",
    "  encoder_inputs = bert_preprocess_model(text_input)\n",
    "\n",
    "  # Pretrained bert layer\n",
    "  outputs = bert_model(encoder_inputs)\n",
    "\n",
    "  # Get pooled output of bert\n",
    "  net = outputs['pooled_output']\n",
    "\n",
    "  net = tf.keras.layers.Dropout(0.3)(net)\n",
    "  # Classification layer\n",
    "  net = tf.keras.layers.Dense(3, activation='softmax', name='classifier')(net)\n",
    "  return tf.keras.Model(text_input, net)\n"
   ]
  },
  {
   "cell_type": "markdown",
   "metadata": {
    "id": "fGpezV21KwaU"
   },
   "source": [
    "# **Training**"
   ]
  },
  {
   "cell_type": "code",
   "execution_count": 31,
   "metadata": {
    "colab": {
     "base_uri": "https://localhost:8080/"
    },
    "id": "pyXacj1Wq4kI",
    "outputId": "d5875f2d-806a-4f85-bac4-58204c3168fb"
   },
   "outputs": [
    {
     "name": "stderr",
     "output_type": "stream",
     "text": [
      "/usr/local/lib/python3.7/dist-packages/keras/optimizer_v2/optimizer_v2.py:356: UserWarning: The `lr` argument is deprecated, use `learning_rate` instead.\n",
      "  \"The `lr` argument is deprecated, use `learning_rate` instead.\")\n"
     ]
    },
    {
     "name": "stdout",
     "output_type": "stream",
     "text": [
      "Epoch 1/200\n",
      "36/36 [==============================] - 22s 439ms/step - loss: 0.7306 - accuracy: 0.7236 - val_loss: 0.5116 - val_accuracy: 0.7828\n",
      "Epoch 2/200\n",
      "36/36 [==============================] - 15s 419ms/step - loss: 0.3703 - accuracy: 0.8627 - val_loss: 0.4541 - val_accuracy: 0.8402\n",
      "Epoch 3/200\n",
      "36/36 [==============================] - 15s 422ms/step - loss: 0.1861 - accuracy: 0.9366 - val_loss: 0.5106 - val_accuracy: 0.8320\n"
     ]
    }
   ],
   "source": [
    "checkpoint_path = \"model.ckpt\"\n",
    "\n",
    "tf.keras.backend.clear_session()\n",
    "cp_callback = tf.keras.callbacks.ModelCheckpoint(filepath=checkpoint_path,\n",
    "                                                save_weights_only=True,\n",
    "                                                save_best_only=True,\n",
    "                                                monitor = 'val_accuracy',\n",
    "                                                verbose=0)\n",
    "\n",
    "es_callback = tf.keras.callbacks.EarlyStopping(\n",
    "monitor='val_loss', min_delta=0, patience=1, verbose=0,\n",
    "mode='min', baseline=None, restore_best_weights=True)\n",
    "\n",
    "classifier_model = build_classifier_model()\n",
    "classifier_model.compile(optimizer=tf.keras.optimizers.Adam(lr = 1e-4),\n",
    "                        loss='categorical_crossentropy',\n",
    "                        metrics=['accuracy'])\n",
    "\n",
    "history = classifier_model.fit(x = X_train,y=y_train,validation_data=(X_val, y_val),\n",
    "                              epochs=200,batch_size = 32, callbacks = [cp_callback, es_callback])\n"
   ]
  },
  {
   "cell_type": "markdown",
   "metadata": {
    "id": "bS3WKdZtK0wv"
   },
   "source": [
    "# **Plotting** **results**"
   ]
  },
  {
   "cell_type": "code",
   "execution_count": 52,
   "metadata": {
    "colab": {
     "base_uri": "https://localhost:8080/",
     "height": 626
    },
    "id": "fi9t3Xe37TiO",
    "outputId": "f7242672-a641-478e-84cd-e78b8cd33a2e"
   },
   "outputs": [
    {
     "data": {
      "image/png": "[encoded data removed]",
      "text/plain": [
       "<Figure size 1440x720 with 1 Axes>"
      ]
     },
     "metadata": {
      "needs_background": "light"
     },
     "output_type": "display_data"
    }
   ],
   "source": [
    "from matplotlib import pyplot as plt\n",
    "\n",
    "fig, ax1 = plt.subplots(1, figsize = (20,10))\n",
    "ax1.plot(history.history['accuracy'])\n",
    "ax1.plot(history.history['val_accuracy'])\n",
    "ax1.set_ylabel('accuracy')\n",
    "ax1.set_xlabel('epoch')\n",
    "ax1.legend(['train', 'val'], loc='upper left')\n",
    "ax1.grid()\n",
    "\n",
    "fig.show()"
   ]
  },
  {
   "cell_type": "markdown",
   "metadata": {
    "id": "l14G6K0rK5Kz"
   },
   "source": [
    "# **Moldel** **evaluation**"
   ]
  },
  {
   "cell_type": "code",
   "execution_count": 53,
   "metadata": {
    "colab": {
     "base_uri": "https://localhost:8080/"
    },
    "id": "vRgN2v_Ves3C",
    "outputId": "359333a8-ba9b-4a54-e6a6-2cf807169299"
   },
   "outputs": [
    {
     "name": "stdout",
     "output_type": "stream",
     "text": [
      "Mean loss: 0.48\n",
      "Mean acc: 82.38%\n"
     ]
    }
   ],
   "source": [
    "classifier_model.load_weights(\"model.ckpt\")\n",
    "\n",
    "res = classifier_model.evaluate(X_test, y_test, verbose=0)\n",
    "\n",
    "print(f\"Mean loss: {round(res[0], 2)}\")\n",
    "print(f\"Mean acc: {round(res[1]*100, 2)}%\")"
   ]
  },
  {
   "cell_type": "code",
   "execution_count": 54,
   "metadata": {
    "colab": {
     "base_uri": "https://localhost:8080/"
    },
    "id": "uL7b8-VN2uFD",
    "outputId": "bbaeb0dd-cbda-4b4e-ceec-d4d4e30de29d"
   },
   "outputs": [
    {
     "name": "stdout",
     "output_type": "stream",
     "text": [
      "              precision    recall  f1-score   support\n",
      "\n",
      "           0       0.85      0.86      0.86       103\n",
      "           1       0.81      0.86      0.84       117\n",
      "           2       0.73      0.46      0.56        24\n",
      "\n",
      "    accuracy                           0.82       244\n",
      "   macro avg       0.80      0.73      0.75       244\n",
      "weighted avg       0.82      0.82      0.82       244\n",
      "\n"
     ]
    }
   ],
   "source": [
    "from sklearn.metrics import classification_report\n",
    "\n",
    "predicted = classifier_model.predict(X_test)\n",
    "predicted = np.array(list(map(lambda a:[0 if i!=np.argmax(a) else 1 for i in range(3)], predicted)))\n",
    "\n",
    "print(classification_report(np.argmax(y_test, axis=1), np.argmax(predicted, axis = 1)))"
   ]
  },
  {
   "cell_type": "code",
   "execution_count": 56,
   "metadata": {
    "colab": {
     "base_uri": "https://localhost:8080/",
     "height": 447
    },
    "id": "WNzVSqNryQJ5",
    "outputId": "85b38bdf-d48c-4a28-ba9e-30e2422628c8"
   },
   "outputs": [
    {
     "data": {
      "text/plain": [
       "<matplotlib.axes._subplots.AxesSubplot at 0x7f9e8fa94e90>"
      ]
     },
     "execution_count": 56,
     "metadata": {},
     "output_type": "execute_result"
    },
    {
     "data": {
      "image/png": "[encoded data removed]",
      "text/plain": [
       "<Figure size 720x504 with 2 Axes>"
      ]
     },
     "metadata": {
      "needs_background": "light"
     },
     "output_type": "display_data"
    }
   ],
   "source": [
    "from sklearn.metrics import confusion_matrix\n",
    "import seaborn as sn\n",
    "import pandas as pd\n",
    "import matplotlib.pyplot as plt\n",
    "\n",
    "df_cm = pd.DataFrame(confusion_matrix(np.argmax(predicted, axis = 1), np.argmax(y_test, axis=1)), index = ['-1','0','1'],\n",
    "                  columns = ['-1','0','1'])\n",
    "plt.figure(figsize = (10,7))\n",
    "sn.heatmap(df_cm, annot=True)"
   ]
  }
 ],
 "metadata": {
  "accelerator": "GPU",
  "colab": {
   "name": "project1.ipynb",
   "provenance": []
  },
  "kernelspec": {
   "display_name": "Python 3",
   "language": "python",
   "name": "python3"
  },
  "language_info": {
   "codemirror_mode": {
    "name": "ipython",
    "version": 3
   },
   "file_extension": ".py",
   "mimetype": "text/x-python",
   "name": "python",
   "nbconvert_exporter": "python",
   "pygments_lexer": "ipython3",
   "version": "3.8.5"
  }
 },
 "nbformat": 4,
 "nbformat_minor": 1
}
